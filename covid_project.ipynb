{
 "cells": [
  {
   "cell_type": "markdown",
   "metadata": {},
   "source": [
    "# Python for Data Analysis Project \n",
    "## Datasets: COVID-19\n"
   ]
  },
  {
   "cell_type": "markdown",
   "metadata": {},
   "source": [
    "## 1. Import of libraries, Loading of Datasets, wrangling and cleaning"
   ]
  },
  {
   "cell_type": "code",
   "execution_count": null,
   "metadata": {},
   "outputs": [],
   "source": [
    "import pandas as pd\n",
    "import warnings\n",
    "warnings.filterwarnings('ignore')\n",
    "#!pip3 install --upgrade pip\n",
    "#!pip3 install --upgrade seaborn cufflinks plotly\n",
    "#!pip install plotly --upgrade\n",
    "import numpy as np\n",
    "import matplotlib.pyplot as plt\n",
    "import matplotlib.ticker as ticker\n",
    "import seaborn as sns\n",
    "from datetime import datetime\n",
    "%matplotlib inline\n",
    "import plotly.express as px\n",
    "from plotly.offline import plot\n",
    "import plotly.graph_objs as go\n",
    "import folium\n",
    "from plotly.subplots import make_subplots\n",
    "#conda install -c conda-forge folium"
   ]
  },
  {
   "cell_type": "code",
   "execution_count": null,
   "metadata": {},
   "outputs": [],
   "source": [
    "countries_aggregated = pd.read_csv(\"https://raw.githubusercontent.com/datasets/covid-19/master/data/countries-aggregated.csv\")\n",
    "countries_aggregated.head()\n"
   ]
  },
  {
   "cell_type": "code",
   "execution_count": null,
   "metadata": {},
   "outputs": [],
   "source": [
    "print(countries_aggregated.shape)\n",
    "countries_aggregated.head()"
   ]
  },
  {
   "cell_type": "code",
   "execution_count": null,
   "metadata": {},
   "outputs": [],
   "source": [
    "countries_aggregated.isna().sum()"
   ]
  },
  {
   "cell_type": "code",
   "execution_count": null,
   "metadata": {},
   "outputs": [],
   "source": [
    "reference = pd.read_csv(\"https://raw.githubusercontent.com/datasets/covid-19/master/data/reference.csv\")\n",
    "print(reference.shape)\n",
    "reference.head()"
   ]
  },
  {
   "cell_type": "code",
   "execution_count": null,
   "metadata": {},
   "outputs": [],
   "source": [
    "reference.isna().sum()"
   ]
  },
  {
   "cell_type": "code",
   "execution_count": null,
   "metadata": {},
   "outputs": [],
   "source": [
    "reference['iso2'] = reference['iso2'].fillna(0)\n",
    "reference['iso3'] = reference['iso3'].fillna(0)\n",
    "reference['code3'] = reference['code3'].fillna(0)\n",
    "reference['Admin2'] = reference['Admin2'].fillna(0)\n",
    "reference['Lat'] = reference['Lat'].fillna(0)\n",
    "reference['Long_'] = reference['Long_'].fillna(0)\n",
    "reference['FIPS'] = reference['FIPS'].fillna(0)\n",
    "reference['Population'] = reference['Population'].fillna(0)\n",
    "reference['Province_State'] = reference['Province_State'].fillna(0) # Assuming here 0 for the missing values and province/state"
   ]
  },
  {
   "cell_type": "code",
   "execution_count": null,
   "metadata": {},
   "outputs": [],
   "source": [
    "reference.isna().sum()"
   ]
  },
  {
   "cell_type": "code",
   "execution_count": null,
   "metadata": {},
   "outputs": [],
   "source": [
    "reference.tail()"
   ]
  },
  {
   "cell_type": "code",
   "execution_count": null,
   "metadata": {},
   "outputs": [],
   "source": [
    "reference=reference.rename(columns={'Country_Region' : 'Country'})"
   ]
  },
  {
   "cell_type": "code",
   "execution_count": null,
   "metadata": {},
   "outputs": [],
   "source": [
    "reference.head(4)"
   ]
  },
  {
   "cell_type": "code",
   "execution_count": null,
   "metadata": {},
   "outputs": [],
   "source": [
    "Countries_reference = pd.merge(left =countries_aggregated, right = reference, on = 'Country') # Merged countries_aggregated and reference on country"
   ]
  },
  {
   "cell_type": "code",
   "execution_count": null,
   "metadata": {},
   "outputs": [],
   "source": [
    "Countries_reference.head()"
   ]
  },
  {
   "cell_type": "code",
   "execution_count": null,
   "metadata": {},
   "outputs": [],
   "source": [
    "Countries_reference.columns"
   ]
  },
  {
   "cell_type": "code",
   "execution_count": null,
   "metadata": {},
   "outputs": [],
   "source": [
    "Countries_reference.shape"
   ]
  },
  {
   "cell_type": "markdown",
   "metadata": {},
   "source": [
    "### Formulating Active and Closed cases columns"
   ]
  },
  {
   "cell_type": "code",
   "execution_count": null,
   "metadata": {},
   "outputs": [],
   "source": [
    "# Active Case = confirmed - deaths - recovered\n",
    "Countries_reference['Active'] = Countries_reference['Confirmed'] - Countries_reference['Deaths'] - Countries_reference['Recovered']"
   ]
  },
  {
   "cell_type": "code",
   "execution_count": null,
   "metadata": {},
   "outputs": [],
   "source": [
    "countries_aggregated['Active'] = countries_aggregated['Confirmed'] - countries_aggregated['Deaths'] - countries_aggregated['Recovered']"
   ]
  },
  {
   "cell_type": "code",
   "execution_count": null,
   "metadata": {},
   "outputs": [],
   "source": [
    "#Closed Cases = Number of Recovered Cases + Number of Death Case\n",
    "Countries_reference['Closed'] = Countries_reference['Recovered'] + Countries_reference['Deaths']"
   ]
  },
  {
   "cell_type": "code",
   "execution_count": null,
   "metadata": {},
   "outputs": [],
   "source": [
    "countries_aggregated['Closed'] = countries_aggregated['Recovered'] + countries_aggregated['Deaths']"
   ]
  },
  {
   "cell_type": "code",
   "execution_count": null,
   "metadata": {},
   "outputs": [],
   "source": [
    "Countries_reference.head()"
   ]
  },
  {
   "cell_type": "code",
   "execution_count": null,
   "metadata": {},
   "outputs": [],
   "source": [
    "countries_aggregated.head()"
   ]
  },
  {
   "cell_type": "markdown",
   "metadata": {},
   "source": [
    "## 2. Trend of Cases Globally (Confirmed, Recovered etc\n",
    "    Line plot(Matplotlib)"
   ]
  },
  {
   "cell_type": "code",
   "execution_count": null,
   "metadata": {},
   "outputs": [],
   "source": [
    "countries_aggregated.groupby(\"Date\")[\"Confirmed\"].sum()"
   ]
  },
  {
   "cell_type": "code",
   "execution_count": null,
   "metadata": {},
   "outputs": [],
   "source": [
    "plt.figure(figsize=(10,7))\n",
    "plt.plot(countries_aggregated.groupby(\"Date\")[\"Confirmed\"].sum(),color=\"Black\")\n",
    "\n",
    "plt.xlabel(\"Date\")\n",
    "plt.ylabel(\"Confirmed\")\n",
    "plt.title(\"Total Confirmed cases trend in the world\")\n",
    "plt.xticks([\"2020-01-26\", \"2020-02-26\",\"2020-03-26\",\"2020-04-26\" ,\"2020-06-3\",],rotation=45,\n",
    "           horizontalalignment='right',fontsize='15')\n",
    "plt.show() "
   ]
  },
  {
   "cell_type": "markdown",
   "metadata": {},
   "source": [
    "Trend of Recovered cases worldwide"
   ]
  },
  {
   "cell_type": "code",
   "execution_count": null,
   "metadata": {},
   "outputs": [],
   "source": [
    "countries_aggregated.groupby(\"Date\")[\"Recovered\"].sum()"
   ]
  },
  {
   "cell_type": "code",
   "execution_count": null,
   "metadata": {},
   "outputs": [],
   "source": [
    "plt.figure(figsize=(10,7))\n",
    "plt.plot(countries_aggregated.groupby(\"Date\")[\"Recovered\"].sum(),color=\"Blue\")\n",
    "plt.xlabel(\"Date\")\n",
    "plt.ylabel(\"Recovered\")\n",
    "plt.title(\"Total Recovered cases trend in the world\")\n",
    "plt.xticks([\"2020-01-26\", \"2020-02-26\",\"2020-03-26\",\"2020-04-26\" ,\"2020-06-3\",],rotation=45,\n",
    "           horizontalalignment='right',fontsize='15')\n",
    "plt.show() "
   ]
  },
  {
   "cell_type": "markdown",
   "metadata": {},
   "source": [
    "Trend of Active Cases worldwide"
   ]
  },
  {
   "cell_type": "code",
   "execution_count": null,
   "metadata": {},
   "outputs": [],
   "source": [
    "countries_aggregated.groupby(\"Date\")[\"Active\"].sum()"
   ]
  },
  {
   "cell_type": "code",
   "execution_count": null,
   "metadata": {},
   "outputs": [],
   "source": [
    "plt.figure(figsize=(10,7))\n",
    "plt.plot(countries_aggregated.groupby(\"Date\")[\"Active\"].sum(),color=\"Purple\")\n",
    "plt.xlabel(\"Date\")\n",
    "plt.ylabel(\"Active\")\n",
    "plt.title(\"Total Active cases trend in the world\")\n",
    "plt.xticks([\"2020-01-26\", \"2020-02-26\",\"2020-03-26\",\"2020-04-26\" ,\"2020-06-3\",],rotation=45,\n",
    "           horizontalalignment='right',fontsize='15')\n",
    "plt.show() "
   ]
  },
  {
   "cell_type": "markdown",
   "metadata": {},
   "source": [
    "Trend of Death cases worlwide"
   ]
  },
  {
   "cell_type": "code",
   "execution_count": null,
   "metadata": {},
   "outputs": [],
   "source": [
    "countries_aggregated.groupby(\"Date\")[\"Deaths\"].sum()"
   ]
  },
  {
   "cell_type": "code",
   "execution_count": null,
   "metadata": {},
   "outputs": [],
   "source": [
    "plt.figure(figsize=(10,7))\n",
    "plt.plot(countries_aggregated.groupby(\"Date\")[\"Deaths\"].sum(),color=\"Red\")\n",
    "plt.xlabel(\"Date\")\n",
    "plt.ylabel(\"Deaths\")\n",
    "plt.title(\"Total Deaths cases trend in the world\")\n",
    "plt.xticks([\"2020-01-26\", \"2020-02-26\",\"2020-03-26\",\"2020-04-26\" ,\"2020-06-3\",],rotation=45,\n",
    "           horizontalalignment='right',fontsize='15')\n",
    "plt.show() "
   ]
  },
  {
   "cell_type": "markdown",
   "metadata": {},
   "source": [
    "## 3. Area plot overview of Cases over time\n",
    "used plotly express: A fast rising Python library for cool visualizations"
   ]
  },
  {
   "cell_type": "code",
   "execution_count": null,
   "metadata": {},
   "outputs": [],
   "source": [
    "aggregated= countries_aggregated.groupby('Date')['Confirmed', 'Recovered', 'Deaths', 'Active', 'Closed'].sum().reset_index()\n",
    "aggregated = aggregated.melt(id_vars=\"Date\", value_vars=['Confirmed', 'Recovered', 'Deaths', 'Active', 'Closed'],\n",
    "                 var_name='Cases', value_name='Count')\n",
    "aggregated.head()\n",
    "\n",
    "fig = px.area(aggregated, x=\"Date\", y=\"Count\", color='Cases', height=700, color_discrete_sequence = ['#19D3F3', '#FF6692', '#B6E880', '#FF97FF', '#FECB52'], \n",
    "             title='Area plot of Cases over time')\n",
    "fig.update_layout(xaxis_rangeslider_visible=True)\n",
    "fig.show()"
   ]
  },
  {
   "cell_type": "markdown",
   "metadata": {},
   "source": [
    "## 4. Heatmap of cases with countries(Active, Confirmed etc)\n",
    " Used plotly graph: Also an amazing python library for visualizations"
   ]
  },
  {
   "cell_type": "code",
   "execution_count": null,
   "metadata": {},
   "outputs": [],
   "source": [
    "fig = go.Figure(data=go.Heatmap(\n",
    "        z=countries_aggregated['Active'],\n",
    "        x=countries_aggregated['Date'],\n",
    "        y=countries_aggregated['Country'],\n",
    "        colorscale='Blackbody'\n",
    "        \n",
    "        ))\n",
    "\n",
    "fig.update_layout(yaxis = dict(dtick = 1))\n",
    "fig.update_layout(height=2000)\n",
    "fig.show()"
   ]
  },
  {
   "cell_type": "code",
   "execution_count": null,
   "metadata": {},
   "outputs": [],
   "source": [
    "fig = go.Figure(data=go.Heatmap(\n",
    "        z=countries_aggregated['Confirmed'],\n",
    "        x=countries_aggregated['Date'],\n",
    "        y=countries_aggregated['Country'],\n",
    "        colorscale='Bluered'\n",
    "        \n",
    "        ))\n",
    "\n",
    "fig.update_layout(yaxis = dict(dtick = 1))\n",
    "fig.update_layout(height=2000)\n",
    "fig.show()"
   ]
  },
  {
   "cell_type": "code",
   "execution_count": null,
   "metadata": {},
   "outputs": [],
   "source": [
    "fig = go.Figure(data=go.Heatmap(\n",
    "        z=countries_aggregated['Recovered'],\n",
    "        x=countries_aggregated['Date'],\n",
    "        y=countries_aggregated['Country'],\n",
    "        colorscale='Rainbow'\n",
    "        \n",
    "      ))\n",
    "\n",
    "fig.update_layout(yaxis = dict(dtick = 1))\n",
    "fig.update_layout(height=2000)\n",
    "fig.show()"
   ]
  },
  {
   "cell_type": "code",
   "execution_count": null,
   "metadata": {},
   "outputs": [],
   "source": [
    "fig = go.Figure(data=go.Heatmap(\n",
    "        z=countries_aggregated['Deaths'],\n",
    "        x=countries_aggregated['Date'],\n",
    "        y=countries_aggregated['Country'],\n",
    "       colorscale='YlOrRd'\n",
    "        \n",
    "        ))\n",
    "\n",
    "fig.update_layout(yaxis = dict(dtick = 1))\n",
    "fig.update_layout(height=2000)\n",
    "fig.show()"
   ]
  },
  {
   "cell_type": "code",
   "execution_count": null,
   "metadata": {},
   "outputs": [],
   "source": [
    "fig = go.Figure(data=go.Heatmap(\n",
    "        z=countries_aggregated['Closed'],\n",
    "        x=countries_aggregated['Date'],\n",
    "        y=countries_aggregated['Country'],\n",
    "       colorscale='Jet'\n",
    "        \n",
    "        ))\n",
    "\n",
    "fig.update_layout(yaxis = dict(dtick = 1))\n",
    "fig.update_layout(height=2000)\n",
    "fig.show()"
   ]
  },
  {
   "cell_type": "markdown",
   "metadata": {},
   "source": [
    "## 5. Folium Map overview of cases worldwide\n",
    "-Used Folium"
   ]
  },
  {
   "cell_type": "code",
   "execution_count": null,
   "metadata": {
    "scrolled": true
   },
   "outputs": [],
   "source": [
    "aggregated = Countries_reference[Countries_reference['Date'] == max(Countries_reference['Date'])]\n",
    "\n",
    "A = folium.Map(location=[0, 0], tiles='cartodbpositron',\n",
    "               min_zoom=1, max_zoom=2, zoom_start=1)\n",
    "\n",
    "for i in range(0, len(aggregated)):\n",
    "    folium.Circle(\n",
    "        location=[aggregated.iloc[i]['Lat'], aggregated.iloc[i]['Long_']],\n",
    "        color='crimson', fill='crimson',\n",
    "        tooltip =   '<li><bold>Country : '+str(aggregated.iloc[i]['Country'])+\n",
    "                    '<li><bold>Recovered : '+str(aggregated.iloc[i]['Recovered'])+\n",
    "                    '<li><bold>Active : '+str(aggregated.iloc[i]['Active'])+\n",
    "                  '<li><bold>Closed : '+str(aggregated.iloc[i]['Closed'])+\n",
    "                    '<li><bold>Confirmed : '+str(aggregated.iloc[i]['Confirmed'])+\n",
    "                    '<li><bold>Deaths : '+str(aggregated.iloc[i]['Deaths']),\n",
    "        radius=int(aggregated.iloc[i]['Confirmed'])**0.5).add_to(A)\n",
    "A\n"
   ]
  },
  {
   "cell_type": "markdown",
   "metadata": {},
   "source": [
    "## 6. Bar graph overview of Cases with plotly (Confirmed, Recovered, Deaths etc)"
   ]
  },
  {
   "cell_type": "code",
   "execution_count": null,
   "metadata": {},
   "outputs": [],
   "source": [
    "fig = px.bar(countries_aggregated, x=\"Date\", y=\"Confirmed\", color='Country', height=400,\n",
    "             title='Confirmed', color_discrete_sequence = px.colors.cyclical.mygbm)\n",
    "fig.show()"
   ]
  },
  {
   "cell_type": "code",
   "execution_count": null,
   "metadata": {},
   "outputs": [],
   "source": [
    "fig = px.bar(countries_aggregated, x=\"Date\", y=\"Recovered\", color='Country', height=400,\n",
    "             title='Recovered cases', color_discrete_sequence = px.colors.cyclical.mygbm)\n",
    "fig.show()"
   ]
  },
  {
   "cell_type": "code",
   "execution_count": null,
   "metadata": {},
   "outputs": [],
   "source": [
    "fig = px.bar(countries_aggregated, x=\"Date\", y=\"Deaths\", color='Country', height=400,\n",
    "             title='Deaths', color_discrete_sequence = px.colors.cyclical.mygbm)\n",
    "fig.show()"
   ]
  },
  {
   "cell_type": "code",
   "execution_count": null,
   "metadata": {},
   "outputs": [],
   "source": [
    "fig = px.bar(countries_aggregated, x=\"Date\", y=\"Active\", color='Country', height=400,\n",
    "             title='Active cases', color_discrete_sequence = px.colors.cyclical.mygbm)\n",
    "fig.show()"
   ]
  },
  {
   "cell_type": "code",
   "execution_count": null,
   "metadata": {},
   "outputs": [],
   "source": [
    "fig = px.bar(countries_aggregated, x=\"Date\", y=\"Closed\", color='Country', height=400,\n",
    "             title='Closed cases', color_discrete_sequence = px.colors.cyclical.mygbm)\n",
    "fig.show()"
   ]
  },
  {
   "cell_type": "markdown",
   "metadata": {},
   "source": [
    "## 7. Looking at Top 15 countries with Most/Least cases\n",
    "-Confirmed, Recovered, Deaths etc\n",
    "Table, bar chart & Scatter chart with markers (plotly graph),\n"
   ]
  },
  {
   "cell_type": "code",
   "execution_count": null,
   "metadata": {},
   "outputs": [],
   "source": [
    "per_country = countries_aggregated.groupby([\"Country\"])[\"Confirmed\"].max().reset_index().sort_values(\"Confirmed\",ascending=False).reset_index(drop=True)\n"
   ]
  },
  {
   "cell_type": "code",
   "execution_count": null,
   "metadata": {},
   "outputs": [],
   "source": [
    "headerColor = 'grey'\n",
    "rowEvenColor = 'lightgrey'\n",
    "rowOddColor = 'white'\n",
    "\n",
    "fig = go.Figure(data=[go.Table(\n",
    "  header=dict(\n",
    "    values=['<b>Country</b>','<b>Confirmed</b>'],\n",
    "    line_color='darkslategray',\n",
    "    fill_color=headerColor,\n",
    "    align=['left','center'],\n",
    "    font=dict(color='white', size=12)\n",
    "  ),\n",
    "  cells=dict(\n",
    "    values=[\n",
    "       per_country['Country'],\n",
    "       per_country['Confirmed'],\n",
    "      ],\n",
    "    line_color='darkslategray',\n",
    "    \n",
    "    fill_color = [[rowOddColor,rowEvenColor,rowOddColor, rowEvenColor,rowOddColor]*len(per_country)],\n",
    "    align = ['left', 'center'],\n",
    "    font = dict(color = 'darkslategray', size = 11)\n",
    "    ))\n",
    "])\n",
    "fig.update_layout(\n",
    "    title='Confirmed Cases In Each Country',\n",
    ")\n",
    "fig.show()"
   ]
  },
  {
   "cell_type": "code",
   "execution_count": null,
   "metadata": {},
   "outputs": [],
   "source": [
    "fig = px.choropleth(per_country, locations=per_country['Country'],\n",
    "                    color=per_country['Confirmed'],locationmode='country names', \n",
    "                    hover_name=per_country['Country'], \n",
    "                    #color_continuous_scale=px.colors.sequential.deep)\n",
    "                    color_continuous_scale=px.colors.sequential.Viridis)\n",
    "fig.update_layout(\n",
    "    title='Map of Confirmed Cases In Each Country',\n",
    ")\n",
    "fig.show()"
   ]
  },
  {
   "cell_type": "code",
   "execution_count": null,
   "metadata": {},
   "outputs": [],
   "source": [
    "fig = go.Figure(data=[go.Bar(\n",
    "            x=per_country['Country'][0:15], y=per_country['Confirmed'][0:15],\n",
    "            text=per_country['Confirmed'][0:15],\n",
    "            textposition='auto',\n",
    "            marker_color='goldenrod'\n",
    "\n",
    "        )])\n",
    "fig.update_layout(\n",
    "    title='The 15 COVID-19 most infected Countries',\n",
    "    xaxis_title=\"Countries\",\n",
    "    yaxis_title=\"Confirmed Cases\",\n",
    ")\n",
    "fig.show()"
   ]
  },
  {
   "cell_type": "code",
   "execution_count": null,
   "metadata": {},
   "outputs": [],
   "source": [
    "fig = go.Figure(data=[go.Scatter(\n",
    "    x=per_country['Country'][0:15],\n",
    "    y=per_country['Confirmed'][0:15],\n",
    "    mode='markers',\n",
    "    marker=dict(\n",
    "        color=100+np.random.randn(500),\n",
    "        size=(per_country['Confirmed'][0:15]/5000),\n",
    "        showscale=True\n",
    "        )\n",
    ")])\n",
    "fig.update_layout(\n",
    "    title='The 15 COVID-19 most infected Countries',\n",
    "    xaxis_title=\"Countries\",\n",
    "    yaxis_title=\"Confirmed Cases\",\n",
    ")\n",
    "fig.show()\n"
   ]
  },
  {
   "cell_type": "code",
   "execution_count": null,
   "metadata": {
    "scrolled": true
   },
   "outputs": [],
   "source": [
    "fig = go.Figure(data=[go.Bar(\n",
    "            x=per_country['Country'][-15:], y=per_country['Confirmed'][-15:],\n",
    "            text=per_country['Confirmed'][-15:],\n",
    "            textposition='auto',\n",
    "            marker_color='blue'\n",
    "\n",
    "        )])\n",
    "fig.update_layout(\n",
    "    title='The COVID-19 Least 15 infected Countries',\n",
    "    xaxis_title=\"Countries\",\n",
    "    yaxis_title=\"Confirmed Cases\",\n",
    ")\n",
    "fig.show()"
   ]
  },
  {
   "cell_type": "code",
   "execution_count": null,
   "metadata": {
    "scrolled": false
   },
   "outputs": [],
   "source": [
    "fig = go.Figure(data=[go.Scatter(\n",
    "    x=per_country['Country'][-15:],\n",
    "    y=per_country['Confirmed'][-15:],\n",
    "    mode='markers',\n",
    "    marker=dict(\n",
    "        color=100+np.random.randn(500),\n",
    "        size=(per_country['Confirmed'][-15:]*5),\n",
    "        showscale=True\n",
    "        )\n",
    ")])\n",
    "fig.update_layout(\n",
    "    title='The COVID-19 Least 15 infected Countries',\n",
    "    xaxis_title=\"Countries\",\n",
    "    yaxis_title=\"Confirmed Cases\",\n",
    ")\n",
    "fig.show()"
   ]
  },
  {
   "cell_type": "code",
   "execution_count": null,
   "metadata": {},
   "outputs": [],
   "source": [
    "death_country = countries_aggregated.groupby([\"Country\"])[\"Deaths\"].max().reset_index().sort_values(\"Deaths\",ascending=False).reset_index(drop=True)\n"
   ]
  },
  {
   "cell_type": "code",
   "execution_count": null,
   "metadata": {},
   "outputs": [],
   "source": [
    "fig = go.Figure(data=[go.Bar(\n",
    "            x=death_country['Country'][0:15], y=death_country['Deaths'][0:15],\n",
    "            text=death_country['Deaths'][0:15],\n",
    "            textposition='auto',\n",
    "            marker_color='brown'\n",
    "\n",
    "        )])\n",
    "fig.update_layout(\n",
    "    title='The COVID-19 15 Countries with most Deaths',\n",
    "    xaxis_title=\"Countries\",\n",
    "    yaxis_title=\"Death Cases\",\n",
    ")\n",
    "fig.show()"
   ]
  },
  {
   "cell_type": "code",
   "execution_count": null,
   "metadata": {},
   "outputs": [],
   "source": [
    "fig = go.Figure(data=[go.Bar(\n",
    "            x=death_country['Country'][-15:], y=death_country['Deaths'][-15:],\n",
    "            text=death_country['Deaths'][-15:],\n",
    "            textposition='auto',\n",
    "            marker_color='brown'\n",
    "\n",
    "        )])\n",
    "fig.update_layout(\n",
    "    title='The 15 least death Countries',\n",
    "    xaxis_title=\"Countries\",\n",
    "    yaxis_title=\"Death Cases\",\n",
    ")\n",
    "fig.show()"
   ]
  },
  {
   "cell_type": "code",
   "execution_count": null,
   "metadata": {},
   "outputs": [],
   "source": [
    "recover_country = countries_aggregated.groupby([\"Country\"])[\"Recovered\"].max().reset_index().sort_values(\"Recovered\",ascending=False).reset_index(drop=True)\n"
   ]
  },
  {
   "cell_type": "code",
   "execution_count": null,
   "metadata": {
    "scrolled": true
   },
   "outputs": [],
   "source": [
    "fig = go.Figure(data=[go.Bar(\n",
    "            x=recover_country['Country'][0:15], y=recover_country['Recovered'][0:15],\n",
    "            text=recover_country['Recovered'][0:15],\n",
    "            textposition='auto',\n",
    "            marker_color='green'\n",
    "\n",
    "        )])\n",
    "fig.update_layout(\n",
    "    title='The COVID-19 Top 15 most recovered Countries',\n",
    "    xaxis_title=\"Countries\",\n",
    "    yaxis_title=\"Recovered Cases\",\n",
    ")\n",
    "fig.show()"
   ]
  },
  {
   "cell_type": "markdown",
   "metadata": {},
   "source": [
    "## 8. Country specific overview and trend of the cases\n",
    "Germany, US, Nigeria, China"
   ]
  },
  {
   "cell_type": "code",
   "execution_count": null,
   "metadata": {},
   "outputs": [],
   "source": [
    "Germany= countries_aggregated[(countries_aggregated['Country'] == 'Germany') ].reset_index(drop=True)\n",
    "Germany.head()"
   ]
  },
  {
   "cell_type": "code",
   "execution_count": null,
   "metadata": {},
   "outputs": [],
   "source": [
    "fig = go.Figure()\n",
    "fig.add_trace(go.Scatter(x=Germany['Date'], y=Germany['Confirmed'],\n",
    "                    mode='lines',\n",
    "                    name='Confirmed'))\n",
    "\n",
    "fig.add_trace(go.Scatter(x=Germany['Date'], y=Germany['Active'],\n",
    "                    mode='lines',\n",
    "                    name='Active',line=dict( dash='dot')))\n",
    "fig.add_trace(go.Scatter(x=Germany['Date'], y=Germany['Deaths'],name='Deaths',\n",
    "                                   marker_color='black',mode='lines',line=dict( dash='dot') ))\n",
    "fig.add_trace(go.Scatter(x=Germany['Date'], y=Germany['Recovered'],\n",
    "                    mode='lines',\n",
    "                    name='Recovered',marker_color='green'))\n",
    "fig.add_trace(go.Scatter(x=Germany['Date'], y=Germany['Closed'],\n",
    "                    mode='lines',\n",
    "                    name='Closed',marker_color='yellow'))\n",
    "fig.update_layout(\n",
    "    title='Trend and Evolution of cases over time in Germany',\n",
    ")\n",
    "\n",
    "fig.show()\n"
   ]
  },
  {
   "cell_type": "code",
   "execution_count": null,
   "metadata": {},
   "outputs": [],
   "source": [
    "Us= countries_aggregated[(countries_aggregated['Country'] == 'US') ].reset_index(drop=True)\n",
    "Us.head()"
   ]
  },
  {
   "cell_type": "code",
   "execution_count": null,
   "metadata": {},
   "outputs": [],
   "source": [
    "fig = go.Figure()\n",
    "fig.add_trace(go.Scatter(x=Us['Date'], y=Us['Confirmed'],\n",
    "                    mode='lines',\n",
    "                    name='Confirmed'))\n",
    "\n",
    "fig.add_trace(go.Scatter(x=Us['Date'], y=Us['Active'],\n",
    "                    mode='lines',\n",
    "                    name='Active',line=dict( dash='dot')))\n",
    "fig.add_trace(go.Scatter(x=Us['Date'], y=Us['Deaths'],name='Deaths',\n",
    "                                   marker_color='black',mode='lines',line=dict( dash='dot') ))\n",
    "fig.add_trace(go.Scatter(x=Us['Date'], y=Us['Recovered'],\n",
    "                    mode='lines',\n",
    "                    name='Recovered',marker_color='green'))\n",
    "fig.add_trace(go.Scatter(x=Us['Date'], y=Us['Closed'],\n",
    "                    mode='lines',\n",
    "                    name='Closed',marker_color='yellow'))\n",
    "fig.update_layout(\n",
    "    title='Trend and Evolution of cases over time in United States',\n",
    ")\n",
    "\n",
    "fig.show()"
   ]
  },
  {
   "cell_type": "code",
   "execution_count": null,
   "metadata": {},
   "outputs": [],
   "source": [
    "Nigeria= countries_aggregated[(countries_aggregated['Country'] == 'Nigeria') ].reset_index(drop=True)\n",
    "Nigeria.head()"
   ]
  },
  {
   "cell_type": "code",
   "execution_count": null,
   "metadata": {},
   "outputs": [],
   "source": [
    "fig = go.Figure()\n",
    "fig.add_trace(go.Scatter(x=Nigeria['Date'], y=Nigeria['Confirmed'],\n",
    "                    mode='lines',\n",
    "                    name='Confirmed'))\n",
    "\n",
    "fig.add_trace(go.Scatter(x=Nigeria['Date'], y=Nigeria['Active'],\n",
    "                    mode='lines',\n",
    "                    name='Active',line=dict( dash='dot')))\n",
    "fig.add_trace(go.Scatter(x=Nigeria['Date'], y=Nigeria['Deaths'],name='Deaths',\n",
    "                                   marker_color='black',mode='lines',line=dict( dash='dot') ))\n",
    "fig.add_trace(go.Scatter(x=Nigeria['Date'], y=Nigeria['Recovered'],\n",
    "                    mode='lines',\n",
    "                    name='Recovered',marker_color='green'))\n",
    "fig.add_trace(go.Scatter(x=Nigeria['Date'], y=Nigeria['Closed'],\n",
    "                    mode='lines',\n",
    "                    name='Closed',marker_color='yellow'))\n",
    "fig.update_layout(\n",
    "    title='Trend and Evolution of cases over time in Nigeria',\n",
    ")\n",
    "\n",
    "fig.show()"
   ]
  },
  {
   "cell_type": "code",
   "execution_count": null,
   "metadata": {},
   "outputs": [],
   "source": [
    "China= countries_aggregated[(countries_aggregated['Country'] == 'China') ].reset_index(drop=True)\n",
    "China.head()"
   ]
  },
  {
   "cell_type": "code",
   "execution_count": null,
   "metadata": {},
   "outputs": [],
   "source": [
    "fig = go.Figure()\n",
    "fig.add_trace(go.Scatter(x=China['Date'], y=China['Confirmed'],\n",
    "                    mode='lines',\n",
    "                    name='Confirmed'))\n",
    "\n",
    "fig.add_trace(go.Scatter(x=China['Date'], y=China['Active'],\n",
    "                    mode='lines',\n",
    "                    name='Active',line=dict( dash='dot')))\n",
    "fig.add_trace(go.Scatter(x=China['Date'], y=China['Deaths'],name='Deaths',\n",
    "                                   marker_color='black',mode='lines',line=dict( dash='dot') ))\n",
    "fig.add_trace(go.Scatter(x=China['Date'], y=China['Recovered'],\n",
    "                    mode='lines',\n",
    "                    name='Recovered',marker_color='green'))\n",
    "fig.add_trace(go.Scatter(x=China['Date'], y=China['Closed'],\n",
    "                    mode='lines',\n",
    "                    name='Closed',marker_color='yellow'))\n",
    "fig.update_layout(\n",
    "    title='Trend and Evolution of cases over time in China',\n",
    ")\n",
    "\n",
    "fig.show()"
   ]
  },
  {
   "cell_type": "markdown",
   "metadata": {},
   "source": [
    "## 8.Correlation of the case variables"
   ]
  },
  {
   "cell_type": "code",
   "execution_count": null,
   "metadata": {},
   "outputs": [],
   "source": [
    "corr = countries_aggregated.corr()\n",
    "corr.style.background_gradient(cmap='coolwarm') #Pandas, built-in fxn"
   ]
  },
  {
   "cell_type": "code",
   "execution_count": null,
   "metadata": {},
   "outputs": [],
   "source": [
    "Cases_cor = ['Confirmed','Recovered', 'Deaths', 'Active', 'Closed']\n",
    "fig, ax = plt.subplots(figsize=(10,10)) \n",
    "sns.heatmap(Countries_reference[Cases_cor].corr(), annot = True, fmt = '.2f')\n",
    "plt.show()"
   ]
  },
  {
   "cell_type": "code",
   "execution_count": null,
   "metadata": {},
   "outputs": [],
   "source": [
    "corr = countries_aggregated.corr()\n",
    "mask = np.triu(np.ones_like(corr, dtype=np.bool))\n",
    ", ax = plt.subplots(figsize=(15, 8))\n",
    "cmap = sns.diverging_palette(150, 5, as_cmap=True)\n",
    "sns.heatmap(corr, mask=mask, cmap=cmap, vmax=1, center=0,\n",
    "            square=True, linewidths=0.6, cbar_kws={\"shrink\": 0.5})"
   ]
  },
  {
   "cell_type": "code",
   "execution_count": null,
   "metadata": {},
   "outputs": [],
   "source": [
    "grid = sns.pairplot(countries_aggregated) # Scatter plot matrix of the variables\n",
    "grid.fig.suptitle('Pair of COVID-19 Case variables', y=1.05)"
   ]
  },
  {
   "cell_type": "markdown",
   "metadata": {},
   "source": [
    "## 9. Loading of Additional Datasets with Testing/other variables\n",
    "-Testing and other interesting variables\n",
    "-Sourced from United Nations, World Bank etc\n",
    "-Github link to the datasets\n"
   ]
  },
  {
   "cell_type": "code",
   "execution_count": null,
   "metadata": {},
   "outputs": [],
   "source": [
    "#Testing = pd.read_csv(\"https://raw.githubusercontent.com/owid/covid-19-data/master/public/data/testing/covid-testing-all-observations.csv\")\n",
    "#Testing.head()"
   ]
  },
  {
   "cell_type": "code",
   "execution_count": null,
   "metadata": {},
   "outputs": [],
   "source": [
    "world_data= pd.read_csv(\"https://raw.githubusercontent.com/owid/covid-19-data/master/public/data/owid-covid-data.csv\")\n",
    "world_data.head()"
   ]
  },
  {
   "cell_type": "code",
   "execution_count": null,
   "metadata": {},
   "outputs": [],
   "source": [
    "world_data.isna().sum() "
   ]
  },
  {
   "cell_type": "code",
   "execution_count": null,
   "metadata": {},
   "outputs": [],
   "source": [
    "world_data['iso_code'] = world_data['iso_code'].fillna(0)\n",
    "world_data['continent'] = world_data['continent'].fillna(0)\n",
    "world_data['total_cases_per_million'] = world_data['total_cases_per_million'].fillna(0)\n",
    "world_data['new_cases_per_million'] = world_data['new_cases_per_million'].fillna(0)\n",
    "world_data['total_deaths_per_million'] = world_data['total_deaths_per_million'].fillna(0)\n",
    "world_data['new_deaths_per_million'] = world_data['new_deaths_per_million'].fillna(0)\n",
    "world_data['total_tests'] = world_data['total_tests'].fillna(0)\n",
    "world_data['new_tests'] = world_data['new_tests'].fillna(0)\n",
    "world_data['total_tests_per_thousand'] = world_data['total_tests_per_thousand'].fillna(0)\n",
    "world_data['new_tests_smoothed'] = world_data['new_tests_smoothed'].fillna(0)\n",
    "world_data['new_tests_smoothed_per_thousand'] = world_data['new_tests_smoothed_per_thousand'].fillna(0)\n",
    "world_data['tests_units'] = world_data['tests_units'].fillna(0)\n",
    "world_data['stringency_index'] = world_data['stringency_index'].fillna(0)\n",
    "world_data['population'] = world_data['population'].fillna(0)\n",
    "world_data['population_density'] = world_data['population_density'].fillna(0)\n",
    "world_data['median_age'] = world_data['median_age'].fillna(0)\n",
    "world_data['aged_65_older'] = world_data['aged_65_older'].fillna(0)\n",
    "world_data['aged_70_older'] = world_data['aged_70_older'].fillna(0)\n",
    "world_data['gdp_per_capita'] = world_data['gdp_per_capita'].fillna(0)\n",
    "world_data['extreme_poverty'] = world_data['extreme_poverty'].fillna(0)\n",
    "world_data['cvd_death_rate'] = world_data['cvd_death_rate'].fillna(0)\n",
    "world_data['diabetes_prevalence'] = world_data['diabetes_prevalence'].fillna(0)\n",
    "world_data['female_smokers'] = world_data['female_smokers'].fillna(0)\n",
    "world_data['male_smokers'] = world_data['male_smokers'].fillna(0)\n",
    "world_data['handwashing_facilities'] = world_data['handwashing_facilities'].fillna(0)\n",
    "world_data['hospital_beds_per_thousand'] = world_data['hospital_beds_per_thousand'].fillna(0)\n",
    "world_data['new_tests_per_thousand'] = world_data['new_tests_per_thousand'].fillna(0)"
   ]
  },
  {
   "cell_type": "code",
   "execution_count": null,
   "metadata": {},
   "outputs": [],
   "source": [
    "world_data.isna().sum()"
   ]
  },
  {
   "cell_type": "code",
   "execution_count": null,
   "metadata": {},
   "outputs": [],
   "source": [
    "world_data = world_data.rename(columns = {'iso_code' : 'iso3'})"
   ]
  },
  {
   "cell_type": "code",
   "execution_count": null,
   "metadata": {},
   "outputs": [],
   "source": [
    "world_reference = pd.merge(left = world_data, right=reference, on = 'iso3')"
   ]
  },
  {
   "cell_type": "code",
   "execution_count": null,
   "metadata": {},
   "outputs": [],
   "source": [
    "world_reference.head()"
   ]
  },
  {
   "cell_type": "code",
   "execution_count": null,
   "metadata": {},
   "outputs": [],
   "source": [
    "world_reference.columns"
   ]
  },
  {
   "cell_type": "code",
   "execution_count": null,
   "metadata": {},
   "outputs": [],
   "source": [
    "world_reference[\"Country\"].nunique()"
   ]
  },
  {
   "cell_type": "code",
   "execution_count": null,
   "metadata": {},
   "outputs": [],
   "source": [
    "world_reference.groupby(\"date\")[\"total_tests\"].sum()"
   ]
  },
  {
   "cell_type": "markdown",
   "metadata": {},
   "source": [
    "## 10. Looking at Top 15 countries\n",
    "-With the most/least situations of the variables; Testing,"
   ]
  },
  {
   "cell_type": "code",
   "execution_count": null,
   "metadata": {},
   "outputs": [],
   "source": [
    "test_country = world_reference.groupby([\"Country\"])[\"total_tests\"].max().reset_index().sort_values(\"total_tests\",ascending=False).reset_index(drop=True)\n"
   ]
  },
  {
   "cell_type": "code",
   "execution_count": null,
   "metadata": {},
   "outputs": [],
   "source": [
    "headerColor = 'grey'\n",
    "rowEvenColor = 'lightgrey'\n",
    "rowOddColor = 'white'\n",
    "\n",
    "fig = go.Figure(data=[go.Table(\n",
    "  header=dict(\n",
    "    values=['<b>Country</b>','<b>total_tests</b>'],\n",
    "    line_color='darkslategray',\n",
    "    fill_color=headerColor,\n",
    "    align=['left','center'],\n",
    "    font=dict(color='white', size=12)\n",
    "  ),\n",
    "  cells=dict(\n",
    "    values=[\n",
    "       test_country['Country'],\n",
    "       test_country['total_tests'],\n",
    "      ],\n",
    "    line_color='darkslategray',\n",
    "    \n",
    "    fill_color = [[rowOddColor,rowEvenColor,rowOddColor, rowEvenColor,rowOddColor]*len(test_country)],\n",
    "    align = ['left', 'center'],\n",
    "    font = dict(color = 'darkslategray', size = 11)\n",
    "    ))\n",
    "])\n",
    "fig.update_layout(\n",
    "    title='Total tests Carried out In Each Country',\n",
    ")\n",
    "fig.show()"
   ]
  },
  {
   "cell_type": "code",
   "execution_count": null,
   "metadata": {},
   "outputs": [],
   "source": [
    "fig = go.Figure(data=[go.Bar(\n",
    "            x=test_country['Country'][0:15], y=test_country['total_tests'][0:15],\n",
    "            text=test_country['total_tests'][0:15],\n",
    "            textposition='auto',\n",
    "            marker_color='green'\n",
    "\n",
    "        )])\n",
    "fig.update_layout(\n",
    "    title='The 15 most Tested Countries',\n",
    "    xaxis_title=\"Countries\",\n",
    "    yaxis_title=\"Total tests\",\n",
    ")\n",
    "fig.show()"
   ]
  },
  {
   "cell_type": "code",
   "execution_count": null,
   "metadata": {},
   "outputs": [],
   "source": [
    "fig = go.Figure(data=[go.Bar(\n",
    "            x=test_country['Country'][-15:], y=test_country['total_tests'][-15:],\n",
    "            text=test_country['total_tests'][-15:],\n",
    "            textposition='auto',\n",
    "            marker_color='brown'\n",
    "\n",
    "        )])\n",
    "fig.update_layout(\n",
    "    title='Least 15 Tested Countries',\n",
    "    xaxis_title=\"Countries\",\n",
    "    yaxis_title=\"Total Tests\",\n",
    ")\n",
    "fig.show()"
   ]
  },
  {
   "cell_type": "code",
   "execution_count": null,
   "metadata": {},
   "outputs": [],
   "source": [
    "world_reference.columns"
   ]
  },
  {
   "cell_type": "code",
   "execution_count": null,
   "metadata": {},
   "outputs": [],
   "source": [
    "world_reference.groupby(\"date\")[\"new_cases\"].sum()"
   ]
  },
  {
   "cell_type": "code",
   "execution_count": null,
   "metadata": {},
   "outputs": [],
   "source": [
    "plt.figure(figsize=(10,7))\n",
    "plt.plot(world_reference.groupby(\"date\")[\"new_cases\"].sum(),color=\"Brown\")\n",
    "plt.xlabel(\"date\")\n",
    "plt.ylabel(\"new_cases\")\n",
    "plt.title(\"new cases trend in the world\")\n",
    "plt.xticks([\"2020-01-26\", \"2020-02-26\",\"2020-03-26\",\"2020-04-26\" ,\"2020-06-4\",],rotation=45,\n",
    "           horizontalalignment='right',fontsize='15')\n",
    "plt.show() "
   ]
  },
  {
   "cell_type": "code",
   "execution_count": null,
   "metadata": {},
   "outputs": [],
   "source": [
    "hand_washing = world_reference.groupby([\"Country\"])[\"handwashing_facilities\"].max().reset_index().sort_values(\"handwashing_facilities\",ascending=False).reset_index(drop=True)\n"
   ]
  },
  {
   "cell_type": "code",
   "execution_count": null,
   "metadata": {},
   "outputs": [],
   "source": [
    "fig = go.Figure(data=[go.Bar(\n",
    "            x=hand_washing['Country'][0:15], y=hand_washing['handwashing_facilities'][0:15],\n",
    "            text=hand_washing['handwashing_facilities'][0:15],\n",
    "            textposition='auto',\n",
    "            marker_color='blue'\n",
    "\n",
    "        )])\n",
    "fig.update_layout(\n",
    "    title='The 15 most handwashing_facilities Countries',\n",
    "    xaxis_title=\"Countries\",\n",
    "    yaxis_title=\"handwashing_facilities\",\n",
    ")\n",
    "fig.show()"
   ]
  },
  {
   "cell_type": "code",
   "execution_count": null,
   "metadata": {},
   "outputs": [],
   "source": [
    "fig = go.Figure(data=[go.Bar(\n",
    "            x=hand_washing['Country'][-15:], y=hand_washing['handwashing_facilities'][-15:],\n",
    "            text=hand_washing['handwashing_facilities'][-15:],\n",
    "            textposition='auto',\n",
    "            marker_color='red'\n",
    "\n",
    "        )])\n",
    "fig.update_layout(\n",
    "    title='The 15 least handwashing_facilities Countries',\n",
    "    xaxis_title=\"Countries\",\n",
    "    yaxis_title=\"handwashing_facilities\",\n",
    ")\n",
    "fig.show()"
   ]
  },
  {
   "cell_type": "code",
   "execution_count": null,
   "metadata": {},
   "outputs": [],
   "source": [
    "female_smokers = world_reference.groupby([\"Country\"])[\"female_smokers\"].max().reset_index().sort_values(\"female_smokers\",ascending=False).reset_index(drop=True)\n"
   ]
  },
  {
   "cell_type": "code",
   "execution_count": null,
   "metadata": {},
   "outputs": [],
   "source": [
    "fig = go.Figure(data=[go.Bar(\n",
    "            x=female_smokers['Country'][0:15], y=female_smokers['female_smokers'][0:15],\n",
    "            text=female_smokers['female_smokers'][0:15],\n",
    "            textposition='auto',\n",
    "            marker_color='pink'\n",
    "\n",
    "        )])\n",
    "fig.update_layout(\n",
    "    title='The 15 most female_smokers Countries',\n",
    "    xaxis_title=\"Countries\",\n",
    "    yaxis_title=\"female_smokers\",\n",
    ")\n",
    "fig.show()"
   ]
  },
  {
   "cell_type": "code",
   "execution_count": null,
   "metadata": {},
   "outputs": [],
   "source": [
    "fig = go.Figure(data=[go.Bar(\n",
    "            x=female_smokers['Country'][-15:], y=female_smokers['female_smokers'][-15:],\n",
    "            text=female_smokers['female_smokers'][-15:],\n",
    "            textposition='auto',\n",
    "            marker_color='blue'\n",
    "\n",
    "        )])\n",
    "fig.update_layout(\n",
    "    title='The 15 least female_smokers Countries',\n",
    "    xaxis_title=\"Countries\",\n",
    "    yaxis_title=\"female_smokers\",\n",
    ")\n",
    "fig.show()"
   ]
  },
  {
   "cell_type": "code",
   "execution_count": null,
   "metadata": {},
   "outputs": [],
   "source": [
    "male_smokers = world_reference.groupby([\"Country\"])[\"male_smokers\"].max().reset_index().sort_values(\"male_smokers\",ascending=False).reset_index(drop=True)\n"
   ]
  },
  {
   "cell_type": "code",
   "execution_count": null,
   "metadata": {},
   "outputs": [],
   "source": [
    "fig = go.Figure(data=[go.Bar(\n",
    "            x=male_smokers['Country'][0:15], y=male_smokers['male_smokers'][0:15],\n",
    "            text=male_smokers['male_smokers'][0:15],\n",
    "            textposition='auto',\n",
    "            marker_color='gray'\n",
    "\n",
    "        )])\n",
    "fig.update_layout(\n",
    "    title='The 15 most male_smokers Countries',\n",
    "    xaxis_title=\"Countries\",\n",
    "    yaxis_title=\"male_smokers\",\n",
    ")\n",
    "fig.show()"
   ]
  },
  {
   "cell_type": "code",
   "execution_count": null,
   "metadata": {},
   "outputs": [],
   "source": [
    "fig = go.Figure(data=[go.Bar(\n",
    "            x=male_smokers['Country'][-15:], y=male_smokers['male_smokers'][-15:],\n",
    "            text=male_smokers['male_smokers'][-15:],\n",
    "            textposition='auto',\n",
    "            marker_color='blue'\n",
    "\n",
    "        )])\n",
    "fig.update_layout(\n",
    "    title='The 15 least male_smokers Countries',\n",
    "    xaxis_title=\"Countries\",\n",
    "    yaxis_title=\"male_smokers\",\n",
    ")\n",
    "fig.show()"
   ]
  },
  {
   "cell_type": "code",
   "execution_count": null,
   "metadata": {},
   "outputs": [],
   "source": [
    "diabetes= world_reference.groupby([\"Country\"])[\"diabetes_prevalence\"].max().reset_index().sort_values(\"diabetes_prevalence\",ascending=False).reset_index(drop=True)\n"
   ]
  },
  {
   "cell_type": "code",
   "execution_count": null,
   "metadata": {},
   "outputs": [],
   "source": [
    "fig = go.Figure(data=[go.Bar(\n",
    "            x=diabetes['Country'][0:15], y=diabetes['diabetes_prevalence'][0:15],\n",
    "            text=diabetes['diabetes_prevalence'][0:15],\n",
    "            textposition='auto',\n",
    "            marker_color='purple'\n",
    "\n",
    "        )])\n",
    "fig.update_layout(\n",
    "    title='The 15 most diabetes_prevalence Countries',\n",
    "    xaxis_title=\"Countries\",\n",
    "    yaxis_title=\"diabetes_prevalences\",\n",
    ")\n",
    "fig.show()"
   ]
  },
  {
   "cell_type": "code",
   "execution_count": null,
   "metadata": {},
   "outputs": [],
   "source": [
    "hospital= world_reference.groupby([\"Country\"])[\"hospital_beds_per_thousand\"].max().reset_index().sort_values(\"hospital_beds_per_thousand\",ascending=False).reset_index(drop=True)\n"
   ]
  },
  {
   "cell_type": "code",
   "execution_count": null,
   "metadata": {},
   "outputs": [],
   "source": [
    "fig = go.Figure(data=[go.Bar(\n",
    "            x=hospital['Country'][0:15], y=hospital['hospital_beds_per_thousand'][0:15],\n",
    "            text=hospital['hospital_beds_per_thousand'][0:15],\n",
    "            textposition='auto',\n",
    "            marker_color='orange'\n",
    "\n",
    "        )])\n",
    "fig.update_layout(\n",
    "    title='The 15 most hospital_beds_per_thousand Countries',\n",
    "    xaxis_title=\"Countries\",\n",
    "    yaxis_title=\"hospital_beds_per_thousand\",\n",
    ")\n",
    "fig.show()"
   ]
  },
  {
   "cell_type": "code",
   "execution_count": null,
   "metadata": {},
   "outputs": [],
   "source": [
    "poverty= world_reference.groupby([\"Country\"])[\"extreme_poverty\"].max().reset_index().sort_values(\"extreme_poverty\",ascending=False).reset_index(drop=True)\n"
   ]
  },
  {
   "cell_type": "code",
   "execution_count": null,
   "metadata": {},
   "outputs": [],
   "source": [
    "fig = go.Figure(data=[go.Bar(\n",
    "            x=poverty['Country'][0:15], y=poverty['extreme_poverty'][0:15],\n",
    "            text=poverty['extreme_poverty'][0:15],\n",
    "            textposition='auto',\n",
    "            marker_color='magenta'\n",
    "\n",
    "        )])\n",
    "fig.update_layout(\n",
    "    title='The 15 most extreme_poverty Countries',\n",
    "    xaxis_title=\"Countries\",\n",
    "    yaxis_title=\"extreme_poverty\",\n",
    ")\n",
    "fig.show()"
   ]
  },
  {
   "cell_type": "code",
   "execution_count": null,
   "metadata": {},
   "outputs": [],
   "source": [
    "gdp= world_reference.groupby([\"Country\"])[\"gdp_per_capita\"].max().reset_index().sort_values(\"gdp_per_capita\",ascending=False).reset_index(drop=True)\n"
   ]
  },
  {
   "cell_type": "code",
   "execution_count": null,
   "metadata": {},
   "outputs": [],
   "source": [
    "fig = go.Figure(data=[go.Bar(\n",
    "            x=gdp['Country'][0:15], y=gdp['gdp_per_capita'][0:15],\n",
    "            text=gdp['gdp_per_capita'][0:15],\n",
    "            textposition='auto',\n",
    "            marker_color='blue'\n",
    "\n",
    "        )])\n",
    "fig.update_layout(\n",
    "    title='The 15 most gdp_per_capita Countries',\n",
    "    xaxis_title=\"Countries\",\n",
    "    yaxis_title=\"gdp_per_capita\",\n",
    ")\n",
    "fig.show()"
   ]
  },
  {
   "cell_type": "code",
   "execution_count": null,
   "metadata": {},
   "outputs": [],
   "source": [
    "aged_70= world_reference.groupby([\"Country\"])[\"aged_70_older\"].max().reset_index().sort_values(\"aged_70_older\",ascending=False).reset_index(drop=True)\n"
   ]
  },
  {
   "cell_type": "code",
   "execution_count": null,
   "metadata": {},
   "outputs": [],
   "source": [
    "fig = go.Figure(data=[go.Bar(\n",
    "            x=aged_70['Country'][0:15], y=aged_70['aged_70_older'][0:15],\n",
    "            text=aged_70['aged_70_older'][0:15],\n",
    "            textposition='auto',\n",
    "            marker_color='gray'\n",
    "\n",
    "        )])\n",
    "fig.update_layout(\n",
    "    title='The 15 most aged_70_older Countries',\n",
    "    xaxis_title=\"Countries\",\n",
    "    yaxis_title=\"aged_70_older\",\n",
    ")\n",
    "fig.show()"
   ]
  },
  {
   "cell_type": "code",
   "execution_count": null,
   "metadata": {},
   "outputs": [],
   "source": [
    "world_reference.columns"
   ]
  },
  {
   "cell_type": "code",
   "execution_count": null,
   "metadata": {},
   "outputs": [],
   "source": [
    "aged_65= world_reference.groupby([\"Country\"])[\"aged_65_older\"].max().reset_index().sort_values(\"aged_65_older\",ascending=False).reset_index(drop=True)\n"
   ]
  },
  {
   "cell_type": "code",
   "execution_count": null,
   "metadata": {},
   "outputs": [],
   "source": [
    "fig = go.Figure(data=[go.Bar(\n",
    "            x=aged_65['Country'][0:15], y=aged_65['aged_65_older'][0:15],\n",
    "            text=aged_65['aged_65_older'][0:15],\n",
    "            textposition='auto',\n",
    "            marker_color='brown'\n",
    "\n",
    "        )])\n",
    "fig.update_layout(\n",
    "    title='The 15 most aged_65_older Countries',\n",
    "    xaxis_title=\"Countries\",\n",
    "    yaxis_title=\"aged_65_older\",\n",
    ")\n",
    "fig.show()"
   ]
  },
  {
   "cell_type": "code",
   "execution_count": null,
   "metadata": {},
   "outputs": [],
   "source": [
    "middle= world_reference.groupby([\"Country\"])[\"median_age\"].max().reset_index().sort_values(\"median_age\",ascending=False).reset_index(drop=True)\n"
   ]
  },
  {
   "cell_type": "code",
   "execution_count": null,
   "metadata": {},
   "outputs": [],
   "source": [
    "fig = go.Figure(data=[go.Bar(\n",
    "            x=middle['Country'][0:15], y=middle['median_age'][0:15],\n",
    "            text=middle['median_age'][0:15],\n",
    "            textposition='auto',\n",
    "            marker_color='green'\n",
    "\n",
    "        )])\n",
    "fig.update_layout(\n",
    "    title='The 15 most median_age Countries',\n",
    "    xaxis_title=\"Countries\",\n",
    "    yaxis_title=\"median_age\",\n",
    ")\n",
    "fig.show()"
   ]
  },
  {
   "cell_type": "code",
   "execution_count": null,
   "metadata": {},
   "outputs": [],
   "source": [
    "population_dense= world_reference.groupby([\"Country\"])[\"population_density\"].max().reset_index().sort_values(\"population_density\",ascending=False).reset_index(drop=True)\n"
   ]
  },
  {
   "cell_type": "code",
   "execution_count": null,
   "metadata": {},
   "outputs": [],
   "source": [
    "fig = go.Figure(data=[go.Bar(\n",
    "            x=population_dense['Country'][0:15], y=population_dense['population_density'][0:15],\n",
    "            text=population_dense['population_density'][0:15],\n",
    "            textposition='auto',\n",
    "            marker_color='yellow'\n",
    "\n",
    "        )])\n",
    "fig.update_layout(\n",
    "    title='The 15 most population_density Countries',\n",
    "    xaxis_title=\"Countries\",\n",
    "    yaxis_title=\"population_density\",\n",
    ")\n",
    "fig.show()"
   ]
  },
  {
   "cell_type": "code",
   "execution_count": null,
   "metadata": {},
   "outputs": [],
   "source": [
    "populations= world_reference.groupby([\"Country\"])[\"population\"].max().reset_index().sort_values(\"population\",ascending=False).reset_index(drop=True)\n"
   ]
  },
  {
   "cell_type": "code",
   "execution_count": null,
   "metadata": {},
   "outputs": [],
   "source": [
    "fig = go.Figure(data=[go.Bar(\n",
    "            x=populations['Country'][0:15], y=populations['population'][0:15],\n",
    "            text=populations['population'][0:15],\n",
    "            textposition='auto',\n",
    "            marker_color='orange'\n",
    "\n",
    "        )])\n",
    "fig.update_layout(\n",
    "    title='The 15 most populated Countries',\n",
    "    xaxis_title=\"Countries\",\n",
    "    yaxis_title=\"population\",\n",
    ")\n",
    "fig.show()"
   ]
  },
  {
   "cell_type": "code",
   "execution_count": null,
   "metadata": {},
   "outputs": [],
   "source": [
    "per_thousand= world_reference.groupby([\"Country\"])[\"total_tests_per_thousand\"].max().reset_index().sort_values(\"total_tests_per_thousand\",ascending=False).reset_index(drop=True)\n"
   ]
  },
  {
   "cell_type": "code",
   "execution_count": null,
   "metadata": {},
   "outputs": [],
   "source": [
    "fig = go.Figure(data=[go.Bar(\n",
    "            x=per_thousand['Country'][0:15], y=per_thousand['total_tests_per_thousand'][0:15],\n",
    "            text=per_thousand['total_tests_per_thousand'][0:15],\n",
    "            textposition='auto',\n",
    "            marker_color='violet'\n",
    "\n",
    "        )])\n",
    "fig.update_layout(\n",
    "    title='The 15 most total_tests_per_thousandCountries',\n",
    "    xaxis_title=\"Countries\",\n",
    "    yaxis_title=\"total_tests_per_thousand\",\n",
    ")\n",
    "fig.show()"
   ]
  },
  {
   "cell_type": "code",
   "execution_count": null,
   "metadata": {},
   "outputs": [],
   "source": [
    "world_circle = world_reference[world_reference['date'] == max(world_reference['date'])]\n",
    "\n",
    "W = folium.Map(location=[0, 0], tiles='cartodbpositron',\n",
    "               min_zoom=1, max_zoom=2, zoom_start=1)\n",
    "\n",
    "for i in range(0, len(world_circle)):\n",
    "    folium.Circle(\n",
    "        location=[world_circle.iloc[i]['Lat'], world_circle.iloc[i]['Long_']],\n",
    "        color='crimson', fill='crimson',\n",
    "        tooltip =   '<li><bold>Country : '+str(world_circle.iloc[i]['Country'])+\n",
    "                    '<li><bold>total_cases : '+str(world_circle.iloc[i]['total_cases'])+\n",
    "                    '<li><bold>population_density: '+str(world_circle.iloc[i]['population_density'])+\n",
    "                    '<li><bold>extreme_poverty : '+str(world_circle.iloc[i]['extreme_poverty'])+\n",
    "                    '<li><bold>diabetes_prevalence : '+str(world_circle.iloc[i]['diabetes_prevalence'])+\n",
    "                    '<li><bold>aged_70_older : '+str(world_circle.iloc[i]['aged_70_older'])+\n",
    "                    '<li><bold>handwashing_facilities : '+str(world_circle.iloc[i]['handwashing_facilities'])+\n",
    "                    '<li><bold>male_smokers : '+str(world_circle.iloc[i]['male_smokers'])+\n",
    "                    '<li><bold>female_smokers : '+str(world_circle.iloc[i]['female_smokers']),\n",
    "        radius=int(world_circle.iloc[i]['population'])**0.5).add_to(W)\n",
    "W"
   ]
  },
  {
   "cell_type": "code",
   "execution_count": null,
   "metadata": {},
   "outputs": [],
   "source": [
    "world_reference.columns"
   ]
  },
  {
   "cell_type": "code",
   "execution_count": null,
   "metadata": {},
   "outputs": [],
   "source": [
    "Group = ['total_cases','population_density']\n",
    "fig, ax = plt.subplots(figsize=(10,10)) \n",
    "sns.heatmap(world_reference[Group].corr(), annot = True, fmt = '.2f')\n",
    "plt.show()"
   ]
  },
  {
   "cell_type": "code",
   "execution_count": null,
   "metadata": {},
   "outputs": [],
   "source": [
    "world_data.columns"
   ]
  },
  {
   "cell_type": "code",
   "execution_count": null,
   "metadata": {},
   "outputs": [],
   "source": [
    "countries_aggregated.columns"
   ]
  },
  {
   "cell_type": "code",
   "execution_count": null,
   "metadata": {},
   "outputs": [],
   "source": [
    "world_data=world_data.rename(columns={'date' : 'Date'})"
   ]
  },
  {
   "cell_type": "code",
   "execution_count": null,
   "metadata": {},
   "outputs": [],
   "source": [
    "world_aggregated = pd.merge(right = world_data, left=countries_aggregated, on = 'Date')"
   ]
  },
  {
   "cell_type": "code",
   "execution_count": null,
   "metadata": {},
   "outputs": [],
   "source": [
    "world_aggregated.columns"
   ]
  },
  {
   "cell_type": "markdown",
   "metadata": {},
   "source": [
    "## Correlation plot\n",
    "-using a much wider datasets with other variables\n",
    "-No much correlation with certain interesting variables\n"
   ]
  },
  {
   "cell_type": "code",
   "execution_count": null,
   "metadata": {},
   "outputs": [],
   "source": [
    "corr = world_aggregated.corr()\n",
    "mask = np.triu(np.ones_like(corr, dtype=np.bool))\n",
    ", ax = plt.subplots(figsize=(35, 28))\n",
    "cmap = sns.diverging_palette(220, 10, as_cmap=True)\n",
    "sns.heatmap(corr, mask=mask, cmap=cmap, vmax=1, center=0,\n",
    "            square=True, linewidths=0.6, cbar_kws={\"shrink\": 2})"
   ]
  },
  {
   "cell_type": "code",
   "execution_count": null,
   "metadata": {},
   "outputs": [],
   "source": [
    "corr = world_aggregated.corr()\n",
    "corr.style.background_gradient(cmap='coolwarm') #Using pandas built in function"
   ]
  },
  {
   "cell_type": "code",
   "execution_count": null,
   "metadata": {},
   "outputs": [],
   "source": []
  }
 ],
 "metadata": {
  "kernelspec": {
   "display_name": "Python 3",
   "language": "python",
   "name": "python3"
  },
  "language_info": {
   "codemirror_mode": {
    "name": "ipython",
    "version": 3
   },
   "file_extension": ".py",
   "mimetype": "text/x-python",
   "name": "python",
   "nbconvert_exporter": "python",
   "pygments_lexer": "ipython3",
   "version": "3.7.7"
  }
 },
 "nbformat": 4,
 "nbformat_minor": 2
}
